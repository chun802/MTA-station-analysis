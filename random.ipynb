{
 "cells": [
  {
   "cell_type": "code",
   "execution_count": 12,
   "metadata": {},
   "outputs": [
    {
     "name": "stdout",
     "output_type": "stream",
     "text": [
      "[170923, 170930, 171007, 171014, 171021, 171028, 171104, 171111, 171118, 171125, 171202, 171209, 171216, 171223, 171230, 180106, 180113, 180120, 180127, 180203, 180210, 180217, 180224, 180303, 180310, 180317, 180324, 180331, 180407, 180414, 180421, 180428, 180505, 180512, 180519, 180526, 180602, 180609, 180616, 180623, 180630, 180707, 180714, 180721, 180728, 180804, 180811, 180818, 180825, 180901, 180908, 180915, 180922]\n"
     ]
    }
   ],
   "source": [
    "import datetime\n",
    "date1 = '2017-09-23'   \n",
    "date2 = '2018-09-22'\n",
    "start = datetime.datetime.strptime(date1, '%Y-%m-%d')\n",
    "end = datetime.datetime.strptime(date2, '%Y-%m-%d')\n",
    "step = datetime.timedelta(days=7)\n",
    "\n",
    "week_nums = []\n",
    "while start <= end:\n",
    "    week_nums.append(start.date())\n",
    "    start += step\n",
    "    \n",
    "week_nums_string = [str(week_num) for week_num in week_nums]\n",
    "\n",
    "week_nums_string_format = [int(week_num[2:4] + week_num[5:7] + week_num[8:]) for week_num in week_nums_string]\n",
    "print (week_nums_string_format)"
   ]
  },
  {
   "cell_type": "code",
   "execution_count": null,
   "metadata": {},
   "outputs": [],
   "source": []
  }
 ],
 "metadata": {
  "kernelspec": {
   "display_name": "Python 3",
   "language": "python",
   "name": "python3"
  },
  "language_info": {
   "codemirror_mode": {
    "name": "ipython",
    "version": 3
   },
   "file_extension": ".py",
   "mimetype": "text/x-python",
   "name": "python",
   "nbconvert_exporter": "python",
   "pygments_lexer": "ipython3",
   "version": "3.6.5"
  }
 },
 "nbformat": 4,
 "nbformat_minor": 2
}
